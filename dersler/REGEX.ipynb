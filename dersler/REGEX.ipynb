{
 "cells": [
  {
   "cell_type": "code",
   "execution_count": 1,
   "metadata": {},
   "outputs": [],
   "source": [
    "import re #? Python'da düzenli ifadelerle (regex) çalışmak için kullanılan bir kütüphanedir. "
   ]
  },
  {
   "cell_type": "code",
   "execution_count": 5,
   "metadata": {},
   "outputs": [
    {
     "name": "stdout",
     "output_type": "stream",
     "text": [
      "Eşleşme bulunamadı.\n",
      "Eşleşme bulunamadı.\n"
     ]
    }
   ],
   "source": [
    "import re\n",
    "\n",
    "\n",
    "#!  re.match() fonksiyonu kullanılarak, pattern ile text değişkenindeki metin arasında bir eşleşme aranmaktadır. \n",
    "\n",
    "# Metin\n",
    "text = \"KocaeliÜniversitesi Bilgisayar Mühendisliği bölümü B Blok 3. kattadır.\"\n",
    "\n",
    "\n",
    "\n",
    "# İkinci desen (kelime sınırları ile)\n",
    "pattern = r\"\\bKocaeli\\b\"\n",
    "\n",
    "# Deseni metnin başında ara\n",
    "result = re.match(pattern, text)\n",
    "\n",
    "# Eşleşme kontrolü\n",
    "if result:\n",
    "    print(\"Eşleşme bulundu:\", result.group())\n",
    "else:\n",
    "    print(\"Eşleşme bulunamadı.\")\n",
    "\n",
    "\n",
    "# İkinci desen (kelime sınırları ile)\n",
    "pattern = r\"Bilgi\"#?buradaki Bilgi match ile değil search ile buluruz\n",
    "\n",
    "# Deseni metnin başında ara\n",
    "result = re.match(pattern, text)\n",
    "\n",
    "# Eşleşme kontrolü\n",
    "if result:\n",
    "    print(\"Eşleşme bulundu:\", result.group())\n",
    "else:\n",
    "    print(\"Eşleşme bulunamadı.\")    "
   ]
  },
  {
   "cell_type": "code",
   "execution_count": 3,
   "metadata": {},
   "outputs": [
    {
     "name": "stdout",
     "output_type": "stream",
     "text": [
      "Eşleşme bulundu: Bilgi\n",
      "Eşleşme bulundu: Blok\n"
     ]
    }
   ],
   "source": [
    "import re\n",
    "\n",
    "text = \"Kocaeli Üniversitesi Bilgisayar Mühendisliği bölümü B Blok 3. kat.\"\n",
    "\n",
    "# İlk desen\n",
    "pattern = r\"Bilgi\"\n",
    "\n",
    "# Eşleşme kontrolü\n",
    "result = re.search(pattern, text)#!Metnin herhangi bir yerinde eşleşme arar.\n",
    "\n",
    "if result:\n",
    "    print(\"Eşleşme bulundu:\", result.group())\n",
    "else:\n",
    "    print(\"Eşleşme bulunamadı.\")\n",
    "\n",
    "# İkinci desen\n",
    "pattern = r\"Blok\"\n",
    "\n",
    "# Eşleşme kontrolü\n",
    "result = re.search(pattern, text)\n",
    "\n",
    "if result:\n",
    "    print(\"Eşleşme bulundu:\", result.group())\n",
    "else:\n",
    "    print(\"Eşleşme bulunamadı.\")"
   ]
  },
  {
   "cell_type": "code",
   "execution_count": 9,
   "metadata": {},
   "outputs": [
    {
     "name": "stdout",
     "output_type": "stream",
     "text": [
      "Eşleşme bulundu: ['B', 'B', 'B']\n",
      "Eşleşme bulundu: ['is', 'is']\n"
     ]
    }
   ],
   "source": [
    "\n",
    "import re\n",
    "\n",
    "text = \"Kocaeli Üniversitesi Bilgisayar Mühendisliği bölümü B Blok 3. kattadır.\"\n",
    "\n",
    "# İlk desen\n",
    "pattern = \"B\"\n",
    "\n",
    "# Eşleşme kontrolü\n",
    "result = re.findall(pattern, text)\n",
    "\n",
    "'''\n",
    "\n",
    "re.findall() fonksiyonu kullanılarak, \n",
    "pattern ile text değişkenindeki metin \n",
    "arasında tüm eşleşmeler aranır.\n",
    " Eşleşmeler bir liste olarak result \n",
    " değişkenine atanır. Eğer eşleşme yoksa, \n",
    " result boş bir liste olur.\n",
    "\n",
    "'''\n",
    "\n",
    "if result:\n",
    "    print(\"Eşleşme bulundu:\", result)\n",
    "else:\n",
    "    print(\"Eşleşme bulunamadı.\")\n",
    "\n",
    "# İkinci metin\n",
    "pattern=\"is\"\n",
    "\n",
    "# İkinci eşleşme kontrolü\n",
    "result = re.findall(pattern, text)\n",
    "\n",
    "if result:\n",
    "    print(\"Eşleşme bulundu:\", result)\n",
    "else:\n",
    "    print(\"Eşleşme bulunamadı.\")"
   ]
  },
  {
   "cell_type": "code",
   "execution_count": 11,
   "metadata": {},
   "outputs": [
    {
     "name": "stdout",
     "output_type": "stream",
     "text": [
      "Kocaeli Üniversitesi Bilgisayar Mühendisliği bölüMü B Blok 3. kattadır.\n"
     ]
    }
   ],
   "source": [
    "import re\n",
    "\n",
    "# Metin tanımı\n",
    "text = \"Kocaeli Üniversitesi Bilgisayar Mühendisliği bölümü B Blok 3. kattadır.\"\n",
    "\n",
    "# Desenin tanımı\n",
    "pattern = r\"m\"\n",
    "\n",
    "# Değiştirme işlemi\n",
    "replacement = \"M\"\n",
    "result = re.sub(pattern, replacement, text) \n",
    "\n",
    "'''\n",
    "re.sub() fonksiyonu, pattern (yani \"m\") ile text içinde eşleşen her \"m\" \n",
    "karakterini replacement (yani \"M\") ile değiştirir. Sonuç, result değişkenine atanır.\n",
    "\n",
    "'''\n",
    "print(result)\n",
    "\n",
    "\n"
   ]
  },
  {
   "cell_type": "code",
   "execution_count": 13,
   "metadata": {},
   "outputs": [
    {
     "name": "stdout",
     "output_type": "stream",
     "text": [
      "furkan.gozkocaeli.edu.tr geçerli bir e-posta adresi değil.\n",
      "furkan09@gmail.com geçerli bir e-posta adresi.\n",
      "furkan.gozkocaeli.edu.tr geçerli bir e-posta adresi değil.\n",
      "furkangozkocaeli.edu.tr geçerli bir e-posta adresi değil.\n",
      "furkan09gmail@.com geçerli bir e-posta adresi değil.\n"
     ]
    }
   ],
   "source": [
    "import re\n",
    "\n",
    "# E-posta adresleri için düzenli ifade\n",
    "email_regex = r'^[a-zA-Z0-9._%+-]+@[a-zA-Z0-9.-]+\\.[a-zA-Z]{2,}$'\n",
    "\n",
    "\n",
    "'''\n",
    "\n",
    "Bu satır, e-posta adreslerinin geçerliliğini kontrol etmek için kullanılan düzenli ifadeyi tanımlar. Açıklaması:\n",
    "^ ve $: Metin başlangıcı ve sonunu belirtir.\n",
    "[a-zA-Z0-9._%+-]+: E-posta adresinin kullanıcı adında geçebilecek karakterleri belirtir (harfler, rakamlar,\n",
    "nokta, alt çizgi vb.).\n",
    "@: E-posta adresindeki \"@\" karakterini belirtir.\n",
    "[a-zA-Z0-9.-]+: Alan adındaki karakterleri belirtir.\n",
    "\\.: Nokta karakterini belirtir.\n",
    "[a-zA-Z]{2,}: Alan adı uzantısının (örneğin, .com, .edu) iki veya daha fazla harften oluştuğunu belirtir.\n",
    "\n",
    "\n",
    "\n",
    "'''\n",
    "\n",
    "# E-posta adresleri listesi\n",
    "email_addresses = [\n",
    "    \"furkan.gozkocaeli.edu.tr\",\n",
    "    \"furkan09@gmail.com\",\n",
    "    \"furkan.gozkocaeli.edu.tr\",\n",
    "    \"furkangozkocaeli.edu.tr\",\n",
    "     \"furkan09gmail@.com\",\n",
    "]\n",
    "\n",
    "# E-posta adreslerini kontrol etme\n",
    "for email in email_addresses:\n",
    "    if re.match(email_regex, email):\n",
    "        print(f\"{email} geçerli bir e-posta adresi.\")\n",
    "    else:\n",
    "        print(f\"{email} geçerli bir e-posta adresi değil.\")"
   ]
  },
  {
   "cell_type": "code",
   "execution_count": 2,
   "metadata": {},
   "outputs": [
    {
     "name": "stdout",
     "output_type": "stream",
     "text": [
      "Tarih: 09/10/2023\n",
      "Tarih: 11/10/2023\n",
      "Telefon Numarası: 5361234567\n",
      "Website: http://www.example.com\n",
      "IP Address: 192.168.1.1\n"
     ]
    }
   ],
   "source": [
    "import re\n",
    "\n",
    "# Metin tanımı\n",
    "text = \"Date: 09/10/2023  tarihinde  Phone Number: 5361234567 olan ahmet oyun oynamak şiçin  Website:http://www.example.com/  girdi  IP Address: 192.168.1.1  olarak ayarladı ...........Date: 11/10/2023 \"\n",
    "\n",
    "# Desen tanımları\n",
    "date_pattern = r'\\d{2}/\\d{2}/\\d{4}'  # Tarih deseni\n",
    "phone_pattern = r'\\d{10}'              # Telefon numarası deseni\n",
    "website_pattern = r'https?://[www\\.]?[a-zA-Z0-9.-]+\\.[a-zA-Z]{2,}'  # Web sitesi deseni\n",
    "ip_pattern = r'\\d{1,3}\\.\\d{1,3}\\.\\d{1,3}\\.\\d{1,3}'  # IP adresi deseni\n",
    "\n",
    "# Eşleşmeleri bulma\n",
    "dates = re.findall(date_pattern, text)\n",
    "phone_numbers = re.findall(phone_pattern, text)\n",
    "websites = re.findall(website_pattern, text)\n",
    "ip_addresses = re.findall(ip_pattern, text)\n",
    "\n",
    "# Sonuçları yazdırma\n",
    "for date in dates:\n",
    "    print(\"Tarih:\", date)\n",
    "\n",
    "for phone_number in phone_numbers:\n",
    "    print(\"Telefon Numarası:\", phone_number)\n",
    "\n",
    "for website in websites:\n",
    "    print(\"Website:\", website)\n",
    "\n",
    "for ip_address in ip_addresses:\n",
    "    print(\"IP Address:\", ip_address)"
   ]
  },
  {
   "cell_type": "code",
   "execution_count": 4,
   "metadata": {},
   "outputs": [
    {
     "name": "stdout",
     "output_type": "stream",
     "text": [
      "['KOU', 'Bilgisayar', 'Müh.', 'bölümü', 'B', 'Blok', '3.', 'kattadır.']\n",
      "['KOU Bilgisayar Müh', ' bölümü B Blok 3', ' kattadır', '']\n"
     ]
    }
   ],
   "source": [
    "import re\n",
    "\n",
    "# Metin tanımı\n",
    "text = \"KOU Bilgisayar Müh. bölümü B Blok 3. kattadır.\"\n",
    "\n",
    "# Desen tanımı\n",
    "pattern = r\"\\s+\"  # Bir veya daha fazla boşluk karakteri\n",
    "\n",
    "# Metni bölme işlemi\n",
    "result = re.split(pattern, text)\n",
    "\n",
    "# Sonucu yazdırma\n",
    "print(result)\n",
    "\n",
    "\n",
    "\n",
    "# Desen tanımı\n",
    "pattern = r\"\\.\"  # Bir veya daha fazla boşluk karakteri\n",
    "\n",
    "# Metni bölme işlemi\n",
    "result = re.split(pattern, text)\n",
    "\n",
    "# Sonucu yazdırma\n",
    "print(result)\n",
    "\n",
    "\n"
   ]
  },
  {
   "cell_type": "code",
   "execution_count": null,
   "metadata": {},
   "outputs": [],
   "source": []
  },
  {
   "cell_type": "code",
   "execution_count": null,
   "metadata": {},
   "outputs": [],
   "source": []
  },
  {
   "cell_type": "code",
   "execution_count": null,
   "metadata": {},
   "outputs": [],
   "source": []
  },
  {
   "cell_type": "code",
   "execution_count": null,
   "metadata": {},
   "outputs": [],
   "source": []
  },
  {
   "cell_type": "code",
   "execution_count": null,
   "metadata": {},
   "outputs": [],
   "source": []
  }
 ],
 "metadata": {
  "kernelspec": {
   "display_name": "myenv",
   "language": "python",
   "name": "python3"
  },
  "language_info": {
   "codemirror_mode": {
    "name": "ipython",
    "version": 3
   },
   "file_extension": ".py",
   "mimetype": "text/x-python",
   "name": "python",
   "nbconvert_exporter": "python",
   "pygments_lexer": "ipython3",
   "version": "3.12.2"
  }
 },
 "nbformat": 4,
 "nbformat_minor": 2
}
